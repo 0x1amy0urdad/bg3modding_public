{
 "cells": [
  {
   "cell_type": "code",
   "execution_count": null,
   "id": "2d729615-02d4-4485-9154-98a5c21bedaf",
   "metadata": {},
   "outputs": [],
   "source": [
    "import really_shadowheart\n",
    "\n",
    "env = really_shadowheart.context.env\n",
    "tool = really_shadowheart.context.tool\n",
    "files = really_shadowheart.context.files\n",
    "\n",
    "from really_shadowheart.flags import *\n",
    "\n",
    "import bg3moddinglib as bg3\n",
    "\n",
    "really_shadowheart.build_mod((1, 4, 7, 7))"
   ]
  },
  {
   "cell_type": "code",
   "execution_count": null,
   "id": "96994eea-33f0-44c4-bd9d-4fe1b3ebb9b4",
   "metadata": {},
   "outputs": [],
   "source": []
  },
  {
   "cell_type": "code",
   "execution_count": null,
   "id": "ded1e9d1-c500-4fb9-92d7-f65d3a493cd8",
   "metadata": {},
   "outputs": [],
   "source": []
  },
  {
   "cell_type": "code",
   "execution_count": null,
   "id": "da7b3e26-8d0b-4f95-bf74-bac09a0745e5",
   "metadata": {},
   "outputs": [],
   "source": []
  },
  {
   "cell_type": "code",
   "execution_count": null,
   "id": "976bf0f6-85e6-4a11-94e4-fc520bcb8785",
   "metadata": {},
   "outputs": [],
   "source": []
  }
 ],
 "metadata": {
  "kernelspec": {
   "display_name": "Python 3 (ipykernel)",
   "language": "python",
   "name": "python3"
  },
  "language_info": {
   "codemirror_mode": {
    "name": "ipython",
    "version": 3
   },
   "file_extension": ".py",
   "mimetype": "text/x-python",
   "name": "python",
   "nbconvert_exporter": "python",
   "pygments_lexer": "ipython3",
   "version": "3.12.6"
  }
 },
 "nbformat": 4,
 "nbformat_minor": 5
}
